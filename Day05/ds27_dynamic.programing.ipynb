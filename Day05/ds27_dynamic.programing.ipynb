{
 "cells": [
  {
   "attachments": {},
   "cell_type": "markdown",
   "metadata": {},
   "source": [
    "### 동적 프로그래밍"
   ]
  },
  {
   "cell_type": "code",
   "execution_count": 17,
   "metadata": {},
   "outputs": [],
   "source": [
    "#전역변수\n",
    "def knapsack():\n",
    "    maxWeight = 7 # 배낭최대무게\n",
    "    rowCount = 4 # 보석 숫자\n",
    "    weight = [0,6,4,3,5]\n",
    "    money = [0,13,8,6,12] #0,금, 수정, 루비, 진주\n",
    "\n",
    "    print('##메모이제이션 배열##')\n",
    "    array = [[0 for _ in range(maxWeight + 1)] for _ in range(rowCount+1)] \n",
    "\n",
    "    for row in range(1, rowCount+1): #4번\n",
    "        print(row,'개--> ', end=' ')\n",
    "        for col in range(1, maxWeight+1):# 1kg~7kg\n",
    "            if weight[row] > col: #무게가 열보다 크면/ 가방에 안들어가면\n",
    "                array[row][col] =array[row-1][col]\n",
    "            else: # 물건무게가 작으면\n",
    "                value1 = money[row] + array[row-1][col-weight[row]]\n",
    "                value2 = array[row-1][col]\n",
    "                array[row][col] = max(value1,value2)\n",
    "            print(f'{array[row][col]}',end=' ')\n",
    "        print()\n",
    "    return array[rowCount][maxWeight]"
   ]
  },
  {
   "cell_type": "code",
   "execution_count": 18,
   "metadata": {},
   "outputs": [
    {
     "name": "stdout",
     "output_type": "stream",
     "text": [
      "##메모이제이션 배열##\n",
      "1 개-->  0 0 0 0 0 13 13 \n",
      "2 개-->  0 0 0 8 8 13 13 \n",
      "3 개-->  0 0 6 8 8 13 14 \n",
      "4 개-->  0 0 6 8 12 13 14 \n"
     ]
    },
    {
     "data": {
      "text/plain": [
       "14"
      ]
     },
     "execution_count": 18,
     "metadata": {},
     "output_type": "execute_result"
    }
   ],
   "source": [
    "knapsack()"
   ]
  },
  {
   "attachments": {},
   "cell_type": "markdown",
   "metadata": {},
   "source": [
    "### 피보나치 수열"
   ]
  },
  {
   "cell_type": "code",
   "execution_count": 20,
   "metadata": {},
   "outputs": [
    {
     "name": "stdout",
     "output_type": "stream",
     "text": [
      "피보나치 수 --> 0 1 1 2 3 5 8 13 21 34 55 89 144 233 377 610 987 1597 2584 4181 6765 10946 17711 28657 46368 75025 121393 196418 317811 514229 832040 1346269 2178309 3524578 5702887 9227465 14930352 24157817 "
     ]
    }
   ],
   "source": [
    "# 한번 계산 된 결과를 메모이제이션\n",
    "\n",
    "d=[0] * 100\n",
    "\n",
    "def fibonacci2(n):\n",
    "    if n == 0 or n ==1 or n ==2: return 1\n",
    "\n",
    "    if d[n] != 0: return d[n]\n",
    "    d[n] = fibonacci2(n-1) +fibonacci2(n-2)\n",
    "    return d[n]\n",
    "\n",
    "print('피보나치 수 --> 0 1', end= ' ' )\n",
    "for i in range(2,38):\n",
    "    print(fibonacci2(i), end=' ')"
   ]
  },
  {
   "cell_type": "code",
   "execution_count": 21,
   "metadata": {},
   "outputs": [
    {
     "data": {
      "text/plain": [
       "[0,\n",
       " 0,\n",
       " 0,\n",
       " 2,\n",
       " 3,\n",
       " 5,\n",
       " 8,\n",
       " 13,\n",
       " 21,\n",
       " 34,\n",
       " 55,\n",
       " 89,\n",
       " 144,\n",
       " 233,\n",
       " 377,\n",
       " 610,\n",
       " 987,\n",
       " 1597,\n",
       " 2584,\n",
       " 4181,\n",
       " 6765,\n",
       " 10946,\n",
       " 17711,\n",
       " 28657,\n",
       " 46368,\n",
       " 75025,\n",
       " 121393,\n",
       " 196418,\n",
       " 317811,\n",
       " 514229,\n",
       " 832040,\n",
       " 1346269,\n",
       " 2178309,\n",
       " 3524578,\n",
       " 5702887,\n",
       " 9227465,\n",
       " 14930352,\n",
       " 24157817,\n",
       " 0,\n",
       " 0,\n",
       " 0,\n",
       " 0,\n",
       " 0,\n",
       " 0,\n",
       " 0,\n",
       " 0,\n",
       " 0,\n",
       " 0,\n",
       " 0,\n",
       " 0,\n",
       " 0,\n",
       " 0,\n",
       " 0,\n",
       " 0,\n",
       " 0,\n",
       " 0,\n",
       " 0,\n",
       " 0,\n",
       " 0,\n",
       " 0,\n",
       " 0,\n",
       " 0,\n",
       " 0,\n",
       " 0,\n",
       " 0,\n",
       " 0,\n",
       " 0,\n",
       " 0,\n",
       " 0,\n",
       " 0,\n",
       " 0,\n",
       " 0,\n",
       " 0,\n",
       " 0,\n",
       " 0,\n",
       " 0,\n",
       " 0,\n",
       " 0,\n",
       " 0,\n",
       " 0,\n",
       " 0,\n",
       " 0,\n",
       " 0,\n",
       " 0,\n",
       " 0,\n",
       " 0,\n",
       " 0,\n",
       " 0,\n",
       " 0,\n",
       " 0,\n",
       " 0,\n",
       " 0,\n",
       " 0,\n",
       " 0,\n",
       " 0,\n",
       " 0,\n",
       " 0,\n",
       " 0,\n",
       " 0,\n",
       " 0]"
      ]
     },
     "execution_count": 21,
     "metadata": {},
     "output_type": "execute_result"
    }
   ],
   "source": [
    "d"
   ]
  }
 ],
 "metadata": {
  "kernelspec": {
   "display_name": "Python 3",
   "language": "python",
   "name": "python3"
  },
  "language_info": {
   "codemirror_mode": {
    "name": "ipython",
    "version": 3
   },
   "file_extension": ".py",
   "mimetype": "text/x-python",
   "name": "python",
   "nbconvert_exporter": "python",
   "pygments_lexer": "ipython3",
   "version": "3.11.1"
  },
  "orig_nbformat": 4,
  "vscode": {
   "interpreter": {
    "hash": "a3d8f53f1429d27b792a3789224562ddd32c1395c9a9cfbb17b3c19c3b9a493d"
   }
  }
 },
 "nbformat": 4,
 "nbformat_minor": 2
}
