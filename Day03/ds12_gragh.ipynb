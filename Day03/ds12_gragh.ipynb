{
 "cells": [
  {
   "attachments": {},
   "cell_type": "markdown",
   "metadata": {},
   "source": [
    "## 그래프"
   ]
  },
  {
   "cell_type": "code",
   "execution_count": 21,
   "metadata": {},
   "outputs": [],
   "source": [
    "class gragh:\n",
    "    def __init__(self, size) :\n",
    "        self.SIZE = size\n",
    "        self.gragh = [[0 for _ in range(size)] for _ in range(size)] # 2 차원 배열\n",
    "        "
   ]
  },
  {
   "cell_type": "code",
   "execution_count": 22,
   "metadata": {},
   "outputs": [
    {
     "name": "stdout",
     "output_type": "stream",
     "text": [
      "[0, 0, 0, 0]\n",
      "[0, 0, 0, 0]\n",
      "[0, 0, 0, 0]\n",
      "[0, 0, 0, 0]\n"
     ]
    }
   ],
   "source": [
    "G1 = gragh(4)\n",
    "\n",
    "for item in G1.gragh:\n",
    "    print(item)"
   ]
  },
  {
   "cell_type": "code",
   "execution_count": 23,
   "metadata": {},
   "outputs": [],
   "source": [
    "# A출발\n",
    "#G1,gragh[0][0] = 0  (A,A) 간선(edge)\n",
    "G1.gragh[0][1] = 1 # (A,B) 간선(edge)\n",
    "G1.gragh[0][2] = 1 # (A,C) 간선(edge)\n",
    "G1.gragh[0][3] = 1 # (A,D) 간선(edge)"
   ]
  },
  {
   "cell_type": "code",
   "execution_count": 24,
   "metadata": {},
   "outputs": [],
   "source": [
    "#B 출발\n",
    "G1.gragh[1][0] = 1 # (B, A) 간선\n",
    "#G1.gragh[1][1] = 1 # (B, B) 간선\n",
    "G1.gragh[1][2] = 1 # (B, C) 간선\n",
    "#G1.gragh[1][3] = 1 # (B, D#) 간선"
   ]
  },
  {
   "cell_type": "code",
   "execution_count": 25,
   "metadata": {},
   "outputs": [],
   "source": [
    "# c 출발\n",
    "G1.gragh[2][0] = 1 # (c, A) 간선\n",
    "G1.gragh[2][1] = 1 # (C, B) 간선\n",
    "G1.gragh[2][2] = 1 # (C, C) 간선\n",
    "#G1.gragh[2][3] = 1 # (C, D) 간선"
   ]
  },
  {
   "cell_type": "code",
   "execution_count": 26,
   "metadata": {},
   "outputs": [],
   "source": [
    "# d 출발\n",
    "G1.gragh[3][0] = 1 # (D, A) 간선\n",
    "#G1.gragh[3][1] = 1 # (D, B) 간선\n",
    "G1.gragh[3][2] = 1 # (D, C) 간선\n",
    "#G1.gragh[3][3] = 1 # (D, D#) 간선"
   ]
  },
  {
   "cell_type": "code",
   "execution_count": 27,
   "metadata": {},
   "outputs": [
    {
     "name": "stdout",
     "output_type": "stream",
     "text": [
      "[0, 1, 1, 1]\n",
      "[1, 0, 1, 0]\n",
      "[1, 1, 1, 0]\n",
      "[1, 0, 1, 0]\n"
     ]
    }
   ],
   "source": [
    "for item in G1.gragh:\n",
    "    print(item)"
   ]
  }
 ],
 "metadata": {
  "kernelspec": {
   "display_name": "Python 3",
   "language": "python",
   "name": "python3"
  },
  "language_info": {
   "codemirror_mode": {
    "name": "ipython",
    "version": 3
   },
   "file_extension": ".py",
   "mimetype": "text/x-python",
   "name": "python",
   "nbconvert_exporter": "python",
   "pygments_lexer": "ipython3",
   "version": "3.11.1"
  },
  "orig_nbformat": 4,
  "vscode": {
   "interpreter": {
    "hash": "a3d8f53f1429d27b792a3789224562ddd32c1395c9a9cfbb17b3c19c3b9a493d"
   }
  }
 },
 "nbformat": 4,
 "nbformat_minor": 2
}
