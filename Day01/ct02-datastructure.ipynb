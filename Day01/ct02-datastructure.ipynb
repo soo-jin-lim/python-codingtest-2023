{
 "cells": [
  {
   "attachments": {},
   "cell_type": "markdown",
   "metadata": {},
   "source": [
    "## 자료구조\n",
    "\n",
    "숫자의 합 - 백준 11720"
   ]
  },
  {
   "cell_type": "code",
   "execution_count": 11,
   "metadata": {},
   "outputs": [
    {
     "name": "stdout",
     "output_type": "stream",
     "text": [
      "2\n"
     ]
    }
   ],
   "source": [
    "# input 문자열 파라미터를 넣으면 틀린문제로 간주!\n",
    "n = int(input())\n",
    "numbers = list(input())\n",
    "\n",
    "sum = 0\n",
    "\n",
    "for i in numbers:\n",
    "    sum += int(i)\n",
    "\n",
    "print(sum)"
   ]
  },
  {
   "attachments": {},
   "cell_type": "markdown",
   "metadata": {},
   "source": [
    "변경후"
   ]
  },
  {
   "cell_type": "code",
   "execution_count": 18,
   "metadata": {},
   "outputs": [
    {
     "name": "stdout",
     "output_type": "stream",
     "text": [
      "2\n"
     ]
    }
   ],
   "source": [
    "n = int(input())\n",
    "numbers = list(map(int,input()))\n",
    "sum = 0\n",
    "\n",
    "for i in range(n):\n",
    "    sum += numbers[i]\n",
    "\n",
    "print(sum)"
   ]
  },
  {
   "attachments": {},
   "cell_type": "markdown",
   "metadata": {},
   "source": [
    "### 평균 -  백준 온라인 1546"
   ]
  },
  {
   "cell_type": "code",
   "execution_count": 34,
   "metadata": {},
   "outputs": [
    {
     "name": "stdout",
     "output_type": "stream",
     "text": [
      "83.33333333333333\n"
     ]
    }
   ],
   "source": [
    "n = int(input())    # 과목수\n",
    "mytest = list(map(int, input().split())) # 점수 다 받는거\n",
    "max_point = max(mytest) # 성적 중 최대점수\n",
    "mysum = 0\n",
    "\n",
    "for i in mytest:\n",
    "    mysum += i\n",
    "\n",
    "print(mysum * 100 / max_point / n) # 평균 구하기"
   ]
  },
  {
   "attachments": {},
   "cell_type": "markdown",
   "metadata": {},
   "source": [
    "### 구간 합 구하기 4 - 백준 11659\n"
   ]
  },
  {
   "cell_type": "code",
   "execution_count": 38,
   "metadata": {},
   "outputs": [
    {
     "ename": "ValueError",
     "evalue": "not enough values to unpack (expected 2, got 0)",
     "output_type": "error",
     "traceback": [
      "\u001b[1;31m---------------------------------------------------------------------------\u001b[0m",
      "\u001b[1;31mValueError\u001b[0m                                Traceback (most recent call last)",
      "Cell \u001b[1;32mIn[38], line 11\u001b[0m\n\u001b[0;32m      8\u001b[0m     sums\u001b[39m.\u001b[39mappend(temp)\n\u001b[0;32m     10\u001b[0m \u001b[39mfor\u001b[39;00m i \u001b[39min\u001b[39;00m \u001b[39mrange\u001b[39m(M):\n\u001b[1;32m---> 11\u001b[0m     x, y \u001b[39m=\u001b[39m \u001b[39mtuple\u001b[39m(\u001b[39mmap\u001b[39m(\u001b[39mint\u001b[39m, \u001b[39minput\u001b[39m()\u001b[39m.\u001b[39msplit())) \u001b[39m#5\u001b[39;00m\n\u001b[0;32m     12\u001b[0m     \u001b[39mprint\u001b[39m(sums[y\u001b[39m-\u001b[39m\u001b[39m1\u001b[39m] \u001b[39m-\u001b[39m sums[x \u001b[39m-\u001b[39m \u001b[39m2\u001b[39m])\n",
      "\u001b[1;31mValueError\u001b[0m: not enough values to unpack (expected 2, got 0)"
     ]
    }
   ],
   "source": [
    "N, M = tuple(map(int,input().split()))\n",
    "numbers = list(map(int, input().split()))\n",
    "sums = [0] # 배열 0번째 인덱스 \n",
    "temp = 0\n",
    "\n",
    "for i in numbers:\n",
    "    temp = temp + i # temp 5 9 12 14 15\n",
    "    sums.append(temp)\n",
    "# [0 5 9 12 14 15]\n",
    "\n",
    "for i in range(M):\n",
    "    x, y = tuple(map(int, input().split())) #5\n",
    "    print(sums[y-1] - sums[x - 2])\n"
   ]
  }
 ],
 "metadata": {
  "kernelspec": {
   "display_name": "Python 3",
   "language": "python",
   "name": "python3"
  },
  "language_info": {
   "codemirror_mode": {
    "name": "ipython",
    "version": 3
   },
   "file_extension": ".py",
   "mimetype": "text/x-python",
   "name": "python",
   "nbconvert_exporter": "python",
   "pygments_lexer": "ipython3",
   "version": "3.11.1"
  },
  "orig_nbformat": 4,
  "vscode": {
   "interpreter": {
    "hash": "a3d8f53f1429d27b792a3789224562ddd32c1395c9a9cfbb17b3c19c3b9a493d"
   }
  }
 },
 "nbformat": 4,
 "nbformat_minor": 2
}
